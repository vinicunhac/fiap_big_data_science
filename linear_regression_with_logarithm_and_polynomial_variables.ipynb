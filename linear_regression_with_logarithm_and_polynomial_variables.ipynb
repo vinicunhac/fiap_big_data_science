{
  "nbformat": 4,
  "nbformat_minor": 0,
  "metadata": {
    "colab": {
      "provenance": [],
      "authorship_tag": "ABX9TyPrMrAT9sIkL8fQPwUhLvTk",
      "include_colab_link": true
    },
    "kernelspec": {
      "name": "python3",
      "display_name": "Python 3"
    },
    "language_info": {
      "name": "python"
    }
  },
  "cells": [
    {
      "cell_type": "markdown",
      "metadata": {
        "id": "view-in-github",
        "colab_type": "text"
      },
      "source": [
        "<a href=\"https://colab.research.google.com/github/vinicunhac/fiap_big_data_science/blob/main/linear_regression_with_logarithm_and_polynomial_variables.ipynb\" target=\"_parent\"><img src=\"https://colab.research.google.com/assets/colab-badge.svg\" alt=\"Open In Colab\"/></a>"
      ]
    },
    {
      "cell_type": "markdown",
      "source": [
        "## 0. Libs"
      ],
      "metadata": {
        "id": "UsxYvIPti0zq"
      }
    },
    {
      "cell_type": "code",
      "execution_count": 55,
      "metadata": {
        "id": "TM7wRZ5EiF4u"
      },
      "outputs": [],
      "source": [
        "import pandas as pd\n",
        "import numpy as np\n",
        "import sklearn.preprocessing as skpp\n",
        "from sklearn.model_selection import train_test_split\n",
        "from sklearn.linear_model import LinearRegression\n",
        "from sklearn.metrics import mean_squared_error"
      ]
    },
    {
      "cell_type": "markdown",
      "source": [
        "## 1. Loading datasets"
      ],
      "metadata": {
        "id": "MWkWCsbei39i"
      }
    },
    {
      "cell_type": "code",
      "source": [
        "df = pd.read_csv('https://raw.githubusercontent.com/diogenesjusto/FIAP/master/Gradua%C3%A7%C3%A3o/dados/mtcars.csv')\n",
        "df.head()"
      ],
      "metadata": {
        "colab": {
          "base_uri": "https://localhost:8080/",
          "height": 206
        },
        "id": "7Msr1JWQiHgP",
        "outputId": "5eeb03fa-a7b9-4a17-9fcd-8982e0c11b13"
      },
      "execution_count": 5,
      "outputs": [
        {
          "output_type": "execute_result",
          "data": {
            "text/plain": [
              "          Unnamed: 0   mpg  cyl   disp   hp  drat     wt   qsec  vs  am  gear  \\\n",
              "0          Mazda RX4  21.0    6  160.0  110  3.90  2.620  16.46   0   1     4   \n",
              "1      Mazda RX4 Wag  21.0    6  160.0  110  3.90  2.875  17.02   0   1     4   \n",
              "2         Datsun 710  22.8    4  108.0   93  3.85  2.320  18.61   1   1     4   \n",
              "3     Hornet 4 Drive  21.4    6  258.0  110  3.08  3.215  19.44   1   0     3   \n",
              "4  Hornet Sportabout  18.7    8  360.0  175  3.15  3.440  17.02   0   0     3   \n",
              "\n",
              "   carb  \n",
              "0     4  \n",
              "1     4  \n",
              "2     1  \n",
              "3     1  \n",
              "4     2  "
            ],
            "text/html": [
              "\n",
              "  <div id=\"df-a0ea08b6-e742-4693-8348-30fba67c6c36\">\n",
              "    <div class=\"colab-df-container\">\n",
              "      <div>\n",
              "<style scoped>\n",
              "    .dataframe tbody tr th:only-of-type {\n",
              "        vertical-align: middle;\n",
              "    }\n",
              "\n",
              "    .dataframe tbody tr th {\n",
              "        vertical-align: top;\n",
              "    }\n",
              "\n",
              "    .dataframe thead th {\n",
              "        text-align: right;\n",
              "    }\n",
              "</style>\n",
              "<table border=\"1\" class=\"dataframe\">\n",
              "  <thead>\n",
              "    <tr style=\"text-align: right;\">\n",
              "      <th></th>\n",
              "      <th>Unnamed: 0</th>\n",
              "      <th>mpg</th>\n",
              "      <th>cyl</th>\n",
              "      <th>disp</th>\n",
              "      <th>hp</th>\n",
              "      <th>drat</th>\n",
              "      <th>wt</th>\n",
              "      <th>qsec</th>\n",
              "      <th>vs</th>\n",
              "      <th>am</th>\n",
              "      <th>gear</th>\n",
              "      <th>carb</th>\n",
              "    </tr>\n",
              "  </thead>\n",
              "  <tbody>\n",
              "    <tr>\n",
              "      <th>0</th>\n",
              "      <td>Mazda RX4</td>\n",
              "      <td>21.0</td>\n",
              "      <td>6</td>\n",
              "      <td>160.0</td>\n",
              "      <td>110</td>\n",
              "      <td>3.90</td>\n",
              "      <td>2.620</td>\n",
              "      <td>16.46</td>\n",
              "      <td>0</td>\n",
              "      <td>1</td>\n",
              "      <td>4</td>\n",
              "      <td>4</td>\n",
              "    </tr>\n",
              "    <tr>\n",
              "      <th>1</th>\n",
              "      <td>Mazda RX4 Wag</td>\n",
              "      <td>21.0</td>\n",
              "      <td>6</td>\n",
              "      <td>160.0</td>\n",
              "      <td>110</td>\n",
              "      <td>3.90</td>\n",
              "      <td>2.875</td>\n",
              "      <td>17.02</td>\n",
              "      <td>0</td>\n",
              "      <td>1</td>\n",
              "      <td>4</td>\n",
              "      <td>4</td>\n",
              "    </tr>\n",
              "    <tr>\n",
              "      <th>2</th>\n",
              "      <td>Datsun 710</td>\n",
              "      <td>22.8</td>\n",
              "      <td>4</td>\n",
              "      <td>108.0</td>\n",
              "      <td>93</td>\n",
              "      <td>3.85</td>\n",
              "      <td>2.320</td>\n",
              "      <td>18.61</td>\n",
              "      <td>1</td>\n",
              "      <td>1</td>\n",
              "      <td>4</td>\n",
              "      <td>1</td>\n",
              "    </tr>\n",
              "    <tr>\n",
              "      <th>3</th>\n",
              "      <td>Hornet 4 Drive</td>\n",
              "      <td>21.4</td>\n",
              "      <td>6</td>\n",
              "      <td>258.0</td>\n",
              "      <td>110</td>\n",
              "      <td>3.08</td>\n",
              "      <td>3.215</td>\n",
              "      <td>19.44</td>\n",
              "      <td>1</td>\n",
              "      <td>0</td>\n",
              "      <td>3</td>\n",
              "      <td>1</td>\n",
              "    </tr>\n",
              "    <tr>\n",
              "      <th>4</th>\n",
              "      <td>Hornet Sportabout</td>\n",
              "      <td>18.7</td>\n",
              "      <td>8</td>\n",
              "      <td>360.0</td>\n",
              "      <td>175</td>\n",
              "      <td>3.15</td>\n",
              "      <td>3.440</td>\n",
              "      <td>17.02</td>\n",
              "      <td>0</td>\n",
              "      <td>0</td>\n",
              "      <td>3</td>\n",
              "      <td>2</td>\n",
              "    </tr>\n",
              "  </tbody>\n",
              "</table>\n",
              "</div>\n",
              "      <button class=\"colab-df-convert\" onclick=\"convertToInteractive('df-a0ea08b6-e742-4693-8348-30fba67c6c36')\"\n",
              "              title=\"Convert this dataframe to an interactive table.\"\n",
              "              style=\"display:none;\">\n",
              "        \n",
              "  <svg xmlns=\"http://www.w3.org/2000/svg\" height=\"24px\"viewBox=\"0 0 24 24\"\n",
              "       width=\"24px\">\n",
              "    <path d=\"M0 0h24v24H0V0z\" fill=\"none\"/>\n",
              "    <path d=\"M18.56 5.44l.94 2.06.94-2.06 2.06-.94-2.06-.94-.94-2.06-.94 2.06-2.06.94zm-11 1L8.5 8.5l.94-2.06 2.06-.94-2.06-.94L8.5 2.5l-.94 2.06-2.06.94zm10 10l.94 2.06.94-2.06 2.06-.94-2.06-.94-.94-2.06-.94 2.06-2.06.94z\"/><path d=\"M17.41 7.96l-1.37-1.37c-.4-.4-.92-.59-1.43-.59-.52 0-1.04.2-1.43.59L10.3 9.45l-7.72 7.72c-.78.78-.78 2.05 0 2.83L4 21.41c.39.39.9.59 1.41.59.51 0 1.02-.2 1.41-.59l7.78-7.78 2.81-2.81c.8-.78.8-2.07 0-2.86zM5.41 20L4 18.59l7.72-7.72 1.47 1.35L5.41 20z\"/>\n",
              "  </svg>\n",
              "      </button>\n",
              "      \n",
              "  <style>\n",
              "    .colab-df-container {\n",
              "      display:flex;\n",
              "      flex-wrap:wrap;\n",
              "      gap: 12px;\n",
              "    }\n",
              "\n",
              "    .colab-df-convert {\n",
              "      background-color: #E8F0FE;\n",
              "      border: none;\n",
              "      border-radius: 50%;\n",
              "      cursor: pointer;\n",
              "      display: none;\n",
              "      fill: #1967D2;\n",
              "      height: 32px;\n",
              "      padding: 0 0 0 0;\n",
              "      width: 32px;\n",
              "    }\n",
              "\n",
              "    .colab-df-convert:hover {\n",
              "      background-color: #E2EBFA;\n",
              "      box-shadow: 0px 1px 2px rgba(60, 64, 67, 0.3), 0px 1px 3px 1px rgba(60, 64, 67, 0.15);\n",
              "      fill: #174EA6;\n",
              "    }\n",
              "\n",
              "    [theme=dark] .colab-df-convert {\n",
              "      background-color: #3B4455;\n",
              "      fill: #D2E3FC;\n",
              "    }\n",
              "\n",
              "    [theme=dark] .colab-df-convert:hover {\n",
              "      background-color: #434B5C;\n",
              "      box-shadow: 0px 1px 3px 1px rgba(0, 0, 0, 0.15);\n",
              "      filter: drop-shadow(0px 1px 2px rgba(0, 0, 0, 0.3));\n",
              "      fill: #FFFFFF;\n",
              "    }\n",
              "  </style>\n",
              "\n",
              "      <script>\n",
              "        const buttonEl =\n",
              "          document.querySelector('#df-a0ea08b6-e742-4693-8348-30fba67c6c36 button.colab-df-convert');\n",
              "        buttonEl.style.display =\n",
              "          google.colab.kernel.accessAllowed ? 'block' : 'none';\n",
              "\n",
              "        async function convertToInteractive(key) {\n",
              "          const element = document.querySelector('#df-a0ea08b6-e742-4693-8348-30fba67c6c36');\n",
              "          const dataTable =\n",
              "            await google.colab.kernel.invokeFunction('convertToInteractive',\n",
              "                                                     [key], {});\n",
              "          if (!dataTable) return;\n",
              "\n",
              "          const docLinkHtml = 'Like what you see? Visit the ' +\n",
              "            '<a target=\"_blank\" href=https://colab.research.google.com/notebooks/data_table.ipynb>data table notebook</a>'\n",
              "            + ' to learn more about interactive tables.';\n",
              "          element.innerHTML = '';\n",
              "          dataTable['output_type'] = 'display_data';\n",
              "          await google.colab.output.renderOutput(dataTable, element);\n",
              "          const docLink = document.createElement('div');\n",
              "          docLink.innerHTML = docLinkHtml;\n",
              "          element.appendChild(docLink);\n",
              "        }\n",
              "      </script>\n",
              "    </div>\n",
              "  </div>\n",
              "  "
            ]
          },
          "metadata": {},
          "execution_count": 5
        }
      ]
    },
    {
      "cell_type": "code",
      "source": [
        "df.shape"
      ],
      "metadata": {
        "colab": {
          "base_uri": "https://localhost:8080/"
        },
        "id": "KAMIPaDGiNmD",
        "outputId": "d134adf3-2924-41c7-ee02-607b5409aa75"
      },
      "execution_count": 4,
      "outputs": [
        {
          "output_type": "execute_result",
          "data": {
            "text/plain": [
              "(32, 12)"
            ]
          },
          "metadata": {},
          "execution_count": 4
        }
      ]
    },
    {
      "cell_type": "markdown",
      "source": [
        "## 2. Dispersion Graph and Corr"
      ],
      "metadata": {
        "id": "Y6ljOVsmi-w9"
      }
    },
    {
      "cell_type": "code",
      "source": [
        "df.plot.scatter(x='wt', y='mpg')\n",
        "\n",
        "#Transform to log\n",
        "df['wt_log'] = np.log(df['wt'])\n",
        "\n",
        "#Tranform to Polynomial\n",
        "poly = skpp.PolynomialFeatures(2)\n",
        "\n"
      ],
      "metadata": {
        "colab": {
          "base_uri": "https://localhost:8080/",
          "height": 283
        },
        "id": "zjx3sXzIiOsz",
        "outputId": "b714b2d9-3566-4b56-8eab-4679ee443e00"
      },
      "execution_count": 80,
      "outputs": [
        {
          "output_type": "display_data",
          "data": {
            "text/plain": [
              "<Figure size 432x288 with 1 Axes>"
            ],
            "image/png": "[encoded data removed]"
          },
          "metadata": {
            "needs_background": "light"
          }
        }
      ]
    },
    {
      "cell_type": "code",
      "source": [
        "df.corr()"
      ],
      "metadata": {
        "colab": {
          "base_uri": "https://localhost:8080/",
          "height": 425
        },
        "id": "6YgzL1mfiR_V",
        "outputId": "08c408e4-7fd8-4a79-f6f6-f75a84548937"
      },
      "execution_count": 81,
      "outputs": [
        {
          "output_type": "execute_result",
          "data": {
            "text/plain": [
              "             mpg       cyl      disp        hp      drat        wt      qsec  \\\n",
              "mpg     1.000000 -0.852162 -0.847551 -0.776168  0.681172 -0.867659  0.418684   \n",
              "cyl    -0.852162  1.000000  0.902033  0.832447 -0.699938  0.782496 -0.591242   \n",
              "disp   -0.847551  0.902033  1.000000  0.790949 -0.710214  0.887980 -0.433698   \n",
              "hp     -0.776168  0.832447  0.790949  1.000000 -0.448759  0.658748 -0.708223   \n",
              "drat    0.681172 -0.699938 -0.710214 -0.448759  1.000000 -0.712441  0.091205   \n",
              "wt     -0.867659  0.782496  0.887980  0.658748 -0.712441  1.000000 -0.174716   \n",
              "qsec    0.418684 -0.591242 -0.433698 -0.708223  0.091205 -0.174716  1.000000   \n",
              "vs      0.664039 -0.810812 -0.710416 -0.723097  0.440278 -0.554916  0.744535   \n",
              "am      0.599832 -0.522607 -0.591227 -0.243204  0.712711 -0.692495 -0.229861   \n",
              "gear    0.480285 -0.492687 -0.555569 -0.125704  0.699610 -0.583287 -0.212682   \n",
              "carb   -0.550925  0.526988  0.394977  0.749812 -0.090790  0.427606 -0.656249   \n",
              "wt_log -0.900081  0.801618  0.863715  0.663691 -0.731244  0.978822 -0.180540   \n",
              "\n",
              "              vs        am      gear      carb    wt_log  \n",
              "mpg     0.664039  0.599832  0.480285 -0.550925 -0.900081  \n",
              "cyl    -0.810812 -0.522607 -0.492687  0.526988  0.801618  \n",
              "disp   -0.710416 -0.591227 -0.555569  0.394977  0.863715  \n",
              "hp     -0.723097 -0.243204 -0.125704  0.749812  0.663691  \n",
              "drat    0.440278  0.712711  0.699610 -0.090790 -0.731244  \n",
              "wt     -0.554916 -0.692495 -0.583287  0.427606  0.978822  \n",
              "qsec    0.744535 -0.229861 -0.212682 -0.656249 -0.180540  \n",
              "vs      1.000000  0.168345  0.206023 -0.569607 -0.564760  \n",
              "am      0.168345  1.000000  0.794059  0.057534 -0.721678  \n",
              "gear    0.206023  0.794059  1.000000  0.274073 -0.584099  \n",
              "carb   -0.569607  0.057534  0.274073  1.000000  0.437880  \n",
              "wt_log -0.564760 -0.721678 -0.584099  0.437880  1.000000  "
            ],
            "text/html": [
              "\n",
              "  <div id=\"df-1de3fb33-4db3-4e30-ae7a-ee40ba2c7477\">\n",
              "    <div class=\"colab-df-container\">\n",
              "      <div>\n",
              "<style scoped>\n",
              "    .dataframe tbody tr th:only-of-type {\n",
              "        vertical-align: middle;\n",
              "    }\n",
              "\n",
              "    .dataframe tbody tr th {\n",
              "        vertical-align: top;\n",
              "    }\n",
              "\n",
              "    .dataframe thead th {\n",
              "        text-align: right;\n",
              "    }\n",
              "</style>\n",
              "<table border=\"1\" class=\"dataframe\">\n",
              "  <thead>\n",
              "    <tr style=\"text-align: right;\">\n",
              "      <th></th>\n",
              "      <th>mpg</th>\n",
              "      <th>cyl</th>\n",
              "      <th>disp</th>\n",
              "      <th>hp</th>\n",
              "      <th>drat</th>\n",
              "      <th>wt</th>\n",
              "      <th>qsec</th>\n",
              "      <th>vs</th>\n",
              "      <th>am</th>\n",
              "      <th>gear</th>\n",
              "      <th>carb</th>\n",
              "      <th>wt_log</th>\n",
              "    </tr>\n",
              "  </thead>\n",
              "  <tbody>\n",
              "    <tr>\n",
              "      <th>mpg</th>\n",
              "      <td>1.000000</td>\n",
              "      <td>-0.852162</td>\n",
              "      <td>-0.847551</td>\n",
              "      <td>-0.776168</td>\n",
              "      <td>0.681172</td>\n",
              "      <td>-0.867659</td>\n",
              "      <td>0.418684</td>\n",
              "      <td>0.664039</td>\n",
              "      <td>0.599832</td>\n",
              "      <td>0.480285</td>\n",
              "      <td>-0.550925</td>\n",
              "      <td>-0.900081</td>\n",
              "    </tr>\n",
              "    <tr>\n",
              "      <th>cyl</th>\n",
              "      <td>-0.852162</td>\n",
              "      <td>1.000000</td>\n",
              "      <td>0.902033</td>\n",
              "      <td>0.832447</td>\n",
              "      <td>-0.699938</td>\n",
              "      <td>0.782496</td>\n",
              "      <td>-0.591242</td>\n",
              "      <td>-0.810812</td>\n",
              "      <td>-0.522607</td>\n",
              "      <td>-0.492687</td>\n",
              "      <td>0.526988</td>\n",
              "      <td>0.801618</td>\n",
              "    </tr>\n",
              "    <tr>\n",
              "      <th>disp</th>\n",
              "      <td>-0.847551</td>\n",
              "      <td>0.902033</td>\n",
              "      <td>1.000000</td>\n",
              "      <td>0.790949</td>\n",
              "      <td>-0.710214</td>\n",
              "      <td>0.887980</td>\n",
              "      <td>-0.433698</td>\n",
              "      <td>-0.710416</td>\n",
              "      <td>-0.591227</td>\n",
              "      <td>-0.555569</td>\n",
              "      <td>0.394977</td>\n",
              "      <td>0.863715</td>\n",
              "    </tr>\n",
              "    <tr>\n",
              "      <th>hp</th>\n",
              "      <td>-0.776168</td>\n",
              "      <td>0.832447</td>\n",
              "      <td>0.790949</td>\n",
              "      <td>1.000000</td>\n",
              "      <td>-0.448759</td>\n",
              "      <td>0.658748</td>\n",
              "      <td>-0.708223</td>\n",
              "      <td>-0.723097</td>\n",
              "      <td>-0.243204</td>\n",
              "      <td>-0.125704</td>\n",
              "      <td>0.749812</td>\n",
              "      <td>0.663691</td>\n",
              "    </tr>\n",
              "    <tr>\n",
              "      <th>drat</th>\n",
              "      <td>0.681172</td>\n",
              "      <td>-0.699938</td>\n",
              "      <td>-0.710214</td>\n",
              "      <td>-0.448759</td>\n",
              "      <td>1.000000</td>\n",
              "      <td>-0.712441</td>\n",
              "      <td>0.091205</td>\n",
              "      <td>0.440278</td>\n",
              "      <td>0.712711</td>\n",
              "      <td>0.699610</td>\n",
              "      <td>-0.090790</td>\n",
              "      <td>-0.731244</td>\n",
              "    </tr>\n",
              "    <tr>\n",
              "      <th>wt</th>\n",
              "      <td>-0.867659</td>\n",
              "      <td>0.782496</td>\n",
              "      <td>0.887980</td>\n",
              "      <td>0.658748</td>\n",
              "      <td>-0.712441</td>\n",
              "      <td>1.000000</td>\n",
              "      <td>-0.174716</td>\n",
              "      <td>-0.554916</td>\n",
              "      <td>-0.692495</td>\n",
              "      <td>-0.583287</td>\n",
              "      <td>0.427606</td>\n",
              "      <td>0.978822</td>\n",
              "    </tr>\n",
              "    <tr>\n",
              "      <th>qsec</th>\n",
              "      <td>0.418684</td>\n",
              "      <td>-0.591242</td>\n",
              "      <td>-0.433698</td>\n",
              "      <td>-0.708223</td>\n",
              "      <td>0.091205</td>\n",
              "      <td>-0.174716</td>\n",
              "      <td>1.000000</td>\n",
              "      <td>0.744535</td>\n",
              "      <td>-0.229861</td>\n",
              "      <td>-0.212682</td>\n",
              "      <td>-0.656249</td>\n",
              "      <td>-0.180540</td>\n",
              "    </tr>\n",
              "    <tr>\n",
              "      <th>vs</th>\n",
              "      <td>0.664039</td>\n",
              "      <td>-0.810812</td>\n",
              "      <td>-0.710416</td>\n",
              "      <td>-0.723097</td>\n",
              "      <td>0.440278</td>\n",
              "      <td>-0.554916</td>\n",
              "      <td>0.744535</td>\n",
              "      <td>1.000000</td>\n",
              "      <td>0.168345</td>\n",
              "      <td>0.206023</td>\n",
              "      <td>-0.569607</td>\n",
              "      <td>-0.564760</td>\n",
              "    </tr>\n",
              "    <tr>\n",
              "      <th>am</th>\n",
              "      <td>0.599832</td>\n",
              "      <td>-0.522607</td>\n",
              "      <td>-0.591227</td>\n",
              "      <td>-0.243204</td>\n",
              "      <td>0.712711</td>\n",
              "      <td>-0.692495</td>\n",
              "      <td>-0.229861</td>\n",
              "      <td>0.168345</td>\n",
              "      <td>1.000000</td>\n",
              "      <td>0.794059</td>\n",
              "      <td>0.057534</td>\n",
              "      <td>-0.721678</td>\n",
              "    </tr>\n",
              "    <tr>\n",
              "      <th>gear</th>\n",
              "      <td>0.480285</td>\n",
              "      <td>-0.492687</td>\n",
              "      <td>-0.555569</td>\n",
              "      <td>-0.125704</td>\n",
              "      <td>0.699610</td>\n",
              "      <td>-0.583287</td>\n",
              "      <td>-0.212682</td>\n",
              "      <td>0.206023</td>\n",
              "      <td>0.794059</td>\n",
              "      <td>1.000000</td>\n",
              "      <td>0.274073</td>\n",
              "      <td>-0.584099</td>\n",
              "    </tr>\n",
              "    <tr>\n",
              "      <th>carb</th>\n",
              "      <td>-0.550925</td>\n",
              "      <td>0.526988</td>\n",
              "      <td>0.394977</td>\n",
              "      <td>0.749812</td>\n",
              "      <td>-0.090790</td>\n",
              "      <td>0.427606</td>\n",
              "      <td>-0.656249</td>\n",
              "      <td>-0.569607</td>\n",
              "      <td>0.057534</td>\n",
              "      <td>0.274073</td>\n",
              "      <td>1.000000</td>\n",
              "      <td>0.437880</td>\n",
              "    </tr>\n",
              "    <tr>\n",
              "      <th>wt_log</th>\n",
              "      <td>-0.900081</td>\n",
              "      <td>0.801618</td>\n",
              "      <td>0.863715</td>\n",
              "      <td>0.663691</td>\n",
              "      <td>-0.731244</td>\n",
              "      <td>0.978822</td>\n",
              "      <td>-0.180540</td>\n",
              "      <td>-0.564760</td>\n",
              "      <td>-0.721678</td>\n",
              "      <td>-0.584099</td>\n",
              "      <td>0.437880</td>\n",
              "      <td>1.000000</td>\n",
              "    </tr>\n",
              "  </tbody>\n",
              "</table>\n",
              "</div>\n",
              "      <button class=\"colab-df-convert\" onclick=\"convertToInteractive('df-1de3fb33-4db3-4e30-ae7a-ee40ba2c7477')\"\n",
              "              title=\"Convert this dataframe to an interactive table.\"\n",
              "              style=\"display:none;\">\n",
              "        \n",
              "  <svg xmlns=\"http://www.w3.org/2000/svg\" height=\"24px\"viewBox=\"0 0 24 24\"\n",
              "       width=\"24px\">\n",
              "    <path d=\"M0 0h24v24H0V0z\" fill=\"none\"/>\n",
              "    <path d=\"M18.56 5.44l.94 2.06.94-2.06 2.06-.94-2.06-.94-.94-2.06-.94 2.06-2.06.94zm-11 1L8.5 8.5l.94-2.06 2.06-.94-2.06-.94L8.5 2.5l-.94 2.06-2.06.94zm10 10l.94 2.06.94-2.06 2.06-.94-2.06-.94-.94-2.06-.94 2.06-2.06.94z\"/><path d=\"M17.41 7.96l-1.37-1.37c-.4-.4-.92-.59-1.43-.59-.52 0-1.04.2-1.43.59L10.3 9.45l-7.72 7.72c-.78.78-.78 2.05 0 2.83L4 21.41c.39.39.9.59 1.41.59.51 0 1.02-.2 1.41-.59l7.78-7.78 2.81-2.81c.8-.78.8-2.07 0-2.86zM5.41 20L4 18.59l7.72-7.72 1.47 1.35L5.41 20z\"/>\n",
              "  </svg>\n",
              "      </button>\n",
              "      \n",
              "  <style>\n",
              "    .colab-df-container {\n",
              "      display:flex;\n",
              "      flex-wrap:wrap;\n",
              "      gap: 12px;\n",
              "    }\n",
              "\n",
              "    .colab-df-convert {\n",
              "      background-color: #E8F0FE;\n",
              "      border: none;\n",
              "      border-radius: 50%;\n",
              "      cursor: pointer;\n",
              "      display: none;\n",
              "      fill: #1967D2;\n",
              "      height: 32px;\n",
              "      padding: 0 0 0 0;\n",
              "      width: 32px;\n",
              "    }\n",
              "\n",
              "    .colab-df-convert:hover {\n",
              "      background-color: #E2EBFA;\n",
              "      box-shadow: 0px 1px 2px rgba(60, 64, 67, 0.3), 0px 1px 3px 1px rgba(60, 64, 67, 0.15);\n",
              "      fill: #174EA6;\n",
              "    }\n",
              "\n",
              "    [theme=dark] .colab-df-convert {\n",
              "      background-color: #3B4455;\n",
              "      fill: #D2E3FC;\n",
              "    }\n",
              "\n",
              "    [theme=dark] .colab-df-convert:hover {\n",
              "      background-color: #434B5C;\n",
              "      box-shadow: 0px 1px 3px 1px rgba(0, 0, 0, 0.15);\n",
              "      filter: drop-shadow(0px 1px 2px rgba(0, 0, 0, 0.3));\n",
              "      fill: #FFFFFF;\n",
              "    }\n",
              "  </style>\n",
              "\n",
              "      <script>\n",
              "        const buttonEl =\n",
              "          document.querySelector('#df-1de3fb33-4db3-4e30-ae7a-ee40ba2c7477 button.colab-df-convert');\n",
              "        buttonEl.style.display =\n",
              "          google.colab.kernel.accessAllowed ? 'block' : 'none';\n",
              "\n",
              "        async function convertToInteractive(key) {\n",
              "          const element = document.querySelector('#df-1de3fb33-4db3-4e30-ae7a-ee40ba2c7477');\n",
              "          const dataTable =\n",
              "            await google.colab.kernel.invokeFunction('convertToInteractive',\n",
              "                                                     [key], {});\n",
              "          if (!dataTable) return;\n",
              "\n",
              "          const docLinkHtml = 'Like what you see? Visit the ' +\n",
              "            '<a target=\"_blank\" href=https://colab.research.google.com/notebooks/data_table.ipynb>data table notebook</a>'\n",
              "            + ' to learn more about interactive tables.';\n",
              "          element.innerHTML = '';\n",
              "          dataTable['output_type'] = 'display_data';\n",
              "          await google.colab.output.renderOutput(dataTable, element);\n",
              "          const docLink = document.createElement('div');\n",
              "          docLink.innerHTML = docLinkHtml;\n",
              "          element.appendChild(docLink);\n",
              "        }\n",
              "      </script>\n",
              "    </div>\n",
              "  </div>\n",
              "  "
            ]
          },
          "metadata": {},
          "execution_count": 81
        }
      ]
    },
    {
      "cell_type": "code",
      "source": [
        "df.plot.scatter(x='wt_log', y='mpg')"
      ],
      "metadata": {
        "colab": {
          "base_uri": "https://localhost:8080/",
          "height": 302
        },
        "id": "9N8xJgwHs4Cs",
        "outputId": "8b109002-9577-4412-81ae-566f2c7005e4"
      },
      "execution_count": 82,
      "outputs": [
        {
          "output_type": "execute_result",
          "data": {
            "text/plain": [
              "<AxesSubplot:xlabel='wt_log', ylabel='mpg'>"
            ]
          },
          "metadata": {},
          "execution_count": 82
        },
        {
          "output_type": "display_data",
          "data": {
            "text/plain": [
              "<Figure size 432x288 with 1 Axes>"
            ],
            "image/png": "[encoded data removed]"
          },
          "metadata": {
            "needs_background": "light"
          }
        }
      ]
    },
    {
      "cell_type": "markdown",
      "source": [
        "## 3. Sample train and test"
      ],
      "metadata": {
        "id": "qw8ZgK7qkSQr"
      }
    },
    {
      "cell_type": "code",
      "source": [
        "# 1º with var wt\n",
        "# x_train, x_test, y_train, y_test = train_test_split(df[['wt']], df['mpg'], test_size=0.25, random_state=123)\n",
        "# 2º with var wt_log\n",
        "# x_train, x_test, y_train, y_test = train_test_split(df[['wt_log']], df['mpg'], test_size=0.25, random_state=123)\n",
        "# 3º with var trasnf Polynomial\n",
        "x_train, x_test, y_train, y_test = train_test_split(df[['wt']], df['mpg'], test_size=0.25, random_state=33)\n",
        "x_train, x_test = poly.fit_transform(x_train), poly.fit_transform(x_test)"
      ],
      "metadata": {
        "id": "oPoxE2eNjbSk"
      },
      "execution_count": 83,
      "outputs": []
    },
    {
      "cell_type": "markdown",
      "source": [
        "## 4. Bulding model"
      ],
      "metadata": {
        "id": "FyGdn60FmkdL"
      }
    },
    {
      "cell_type": "code",
      "source": [
        "mod = LinearRegression()\n",
        "mod.fit(x_train, y_train)\n",
        "print(mod.score(x_train, y_train))"
      ],
      "metadata": {
        "colab": {
          "base_uri": "https://localhost:8080/"
        },
        "id": "73r2-tcemkMT",
        "outputId": "2b9c97dd-17eb-4d9d-8f0a-df33b5cca559"
      },
      "execution_count": 84,
      "outputs": [
        {
          "output_type": "stream",
          "name": "stdout",
          "text": [
            "0.8451131256252045\n"
          ]
        }
      ]
    },
    {
      "cell_type": "markdown",
      "source": [
        "## 5. Forecast"
      ],
      "metadata": {
        "id": "A8p8lWbgngTz"
      }
    },
    {
      "cell_type": "code",
      "source": [
        "from sklearn.metrics import mean_squared_error\n",
        "y_prev = mod.predict(x_test)\n",
        "\n",
        "print(mean_squared_error(y_test, y_prev))\n"
      ],
      "metadata": {
        "colab": {
          "base_uri": "https://localhost:8080/"
        },
        "id": "sjAziP4-msVL",
        "outputId": "e32774e4-242f-4216-a083-01026029f16f"
      },
      "execution_count": 85,
      "outputs": [
        {
          "output_type": "stream",
          "name": "stdout",
          "text": [
            "10.909693228869378\n"
          ]
        }
      ]
    },
    {
      "cell_type": "code",
      "source": [],
      "metadata": {
        "id": "9UgqJTWQsKfs"
      },
      "execution_count": null,
      "outputs": []
    }
  ]
}