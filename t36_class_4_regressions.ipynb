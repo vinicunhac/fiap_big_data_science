{
  "nbformat": 4,
  "nbformat_minor": 0,
  "metadata": {
    "colab": {
      "provenance": [],
      "authorship_tag": "ABX9TyMH7p1cOMzvh9v/EZfQeJjn",
      "include_colab_link": true
    },
    "kernelspec": {
      "name": "python3",
      "display_name": "Python 3"
    },
    "language_info": {
      "name": "python"
    }
  },
  "cells": [
    {
      "cell_type": "markdown",
      "metadata": {
        "id": "view-in-github",
        "colab_type": "text"
      },
      "source": [
        "<a href=\"https://colab.research.google.com/github/vinicunhac/fiap_big_data_science/blob/main/t36_class_4_regressions.ipynb\" target=\"_parent\"><img src=\"https://colab.research.google.com/assets/colab-badge.svg\" alt=\"Open In Colab\"/></a>"
      ]
    },
    {
      "cell_type": "markdown",
      "source": [
        "## 0. Libs"
      ],
      "metadata": {
        "id": "xsHw8JSS1euC"
      }
    },
    {
      "cell_type": "code",
      "execution_count": 2,
      "metadata": {
        "id": "brRqvruQ1Qe_"
      },
      "outputs": [],
      "source": [
        "import pandas as pd\n",
        "from sklearn.linear_model import LinearRegression\n",
        "import numpy as np"
      ]
    },
    {
      "cell_type": "markdown",
      "source": [
        "## 1. Loading datasets"
      ],
      "metadata": {
        "id": "tW0zrXZN1dgk"
      }
    },
    {
      "cell_type": "code",
      "source": [
        "df = pd.read_csv(\"https://raw.githubusercontent.com/diogenesjusto/FIAP/master/SHIFT/Data/pib.csv\")\n",
        "\n",
        "df.head()"
      ],
      "metadata": {
        "colab": {
          "base_uri": "https://localhost:8080/",
          "height": 231
        },
        "id": "MxC6bXaF196S",
        "outputId": "c4ef9fe6-89d6-497b-f0c8-a76d1aee727e"
      },
      "execution_count": 3,
      "outputs": [
        {
          "output_type": "execute_result",
          "data": {
            "text/plain": [
              "   Unnamed: 0 ANO_MES     PIB     BRL     BRP     BRT     SLP     SPP     SPT  \\\n",
              "0           1  jan/04  103.09  109.19  108.67  109.08  102.84  114.27  105.38   \n",
              "1           2  fev/04  102.05   95.65  104.52   97.63   90.76  109.83   94.99   \n",
              "2           3  mar/04  110.43   91.69  125.53   99.26   89.78  133.24   99.43   \n",
              "3           4  abr/04  106.77   95.36  118.34  100.49   94.58  123.55  101.02   \n",
              "4           5  mai/04  108.08   92.47  121.49   98.96   91.34  128.32   99.55   \n",
              "\n",
              "      PRL  ...   PIBi3   PIBi4   PIBi5   PIBi6   PIBi7   PIBi8   PIBi9  \\\n",
              "0  127.49  ...  106.27  104.52  102.59  102.24   99.96  101.93  101.17   \n",
              "1   96.60  ...  104.10  106.27  104.52  102.59  102.24   99.96  101.93   \n",
              "2   83.79  ...  103.91  104.10  106.27  104.52  102.59  102.24   99.96   \n",
              "3   91.79  ...  103.09  103.91  104.10  106.27  104.52  102.59  102.24   \n",
              "4   85.73  ...  102.05  103.09  103.91  104.10  106.27  104.52  102.59   \n",
              "\n",
              "   PIBi10  PIBi11  PIBi12  \n",
              "0  101.70  100.03  100.00  \n",
              "1  101.17  101.70  100.03  \n",
              "2  101.93  101.17  101.70  \n",
              "3   99.96  101.93  101.17  \n",
              "4  102.24   99.96  101.93  \n",
              "\n",
              "[5 rows x 38 columns]"
            ],
            "text/html": [
              "\n",
              "  <div id=\"df-18d3ab46-7e6c-4dc7-9cfc-3c88b01ab40f\">\n",
              "    <div class=\"colab-df-container\">\n",
              "      <div>\n",
              "<style scoped>\n",
              "    .dataframe tbody tr th:only-of-type {\n",
              "        vertical-align: middle;\n",
              "    }\n",
              "\n",
              "    .dataframe tbody tr th {\n",
              "        vertical-align: top;\n",
              "    }\n",
              "\n",
              "    .dataframe thead th {\n",
              "        text-align: right;\n",
              "    }\n",
              "</style>\n",
              "<table border=\"1\" class=\"dataframe\">\n",
              "  <thead>\n",
              "    <tr style=\"text-align: right;\">\n",
              "      <th></th>\n",
              "      <th>Unnamed: 0</th>\n",
              "      <th>ANO_MES</th>\n",
              "      <th>PIB</th>\n",
              "      <th>BRL</th>\n",
              "      <th>BRP</th>\n",
              "      <th>BRT</th>\n",
              "      <th>SLP</th>\n",
              "      <th>SPP</th>\n",
              "      <th>SPT</th>\n",
              "      <th>PRL</th>\n",
              "      <th>...</th>\n",
              "      <th>PIBi3</th>\n",
              "      <th>PIBi4</th>\n",
              "      <th>PIBi5</th>\n",
              "      <th>PIBi6</th>\n",
              "      <th>PIBi7</th>\n",
              "      <th>PIBi8</th>\n",
              "      <th>PIBi9</th>\n",
              "      <th>PIBi10</th>\n",
              "      <th>PIBi11</th>\n",
              "      <th>PIBi12</th>\n",
              "    </tr>\n",
              "  </thead>\n",
              "  <tbody>\n",
              "    <tr>\n",
              "      <th>0</th>\n",
              "      <td>1</td>\n",
              "      <td>jan/04</td>\n",
              "      <td>103.09</td>\n",
              "      <td>109.19</td>\n",
              "      <td>108.67</td>\n",
              "      <td>109.08</td>\n",
              "      <td>102.84</td>\n",
              "      <td>114.27</td>\n",
              "      <td>105.38</td>\n",
              "      <td>127.49</td>\n",
              "      <td>...</td>\n",
              "      <td>106.27</td>\n",
              "      <td>104.52</td>\n",
              "      <td>102.59</td>\n",
              "      <td>102.24</td>\n",
              "      <td>99.96</td>\n",
              "      <td>101.93</td>\n",
              "      <td>101.17</td>\n",
              "      <td>101.70</td>\n",
              "      <td>100.03</td>\n",
              "      <td>100.00</td>\n",
              "    </tr>\n",
              "    <tr>\n",
              "      <th>1</th>\n",
              "      <td>2</td>\n",
              "      <td>fev/04</td>\n",
              "      <td>102.05</td>\n",
              "      <td>95.65</td>\n",
              "      <td>104.52</td>\n",
              "      <td>97.63</td>\n",
              "      <td>90.76</td>\n",
              "      <td>109.83</td>\n",
              "      <td>94.99</td>\n",
              "      <td>96.60</td>\n",
              "      <td>...</td>\n",
              "      <td>104.10</td>\n",
              "      <td>106.27</td>\n",
              "      <td>104.52</td>\n",
              "      <td>102.59</td>\n",
              "      <td>102.24</td>\n",
              "      <td>99.96</td>\n",
              "      <td>101.93</td>\n",
              "      <td>101.17</td>\n",
              "      <td>101.70</td>\n",
              "      <td>100.03</td>\n",
              "    </tr>\n",
              "    <tr>\n",
              "      <th>2</th>\n",
              "      <td>3</td>\n",
              "      <td>mar/04</td>\n",
              "      <td>110.43</td>\n",
              "      <td>91.69</td>\n",
              "      <td>125.53</td>\n",
              "      <td>99.26</td>\n",
              "      <td>89.78</td>\n",
              "      <td>133.24</td>\n",
              "      <td>99.43</td>\n",
              "      <td>83.79</td>\n",
              "      <td>...</td>\n",
              "      <td>103.91</td>\n",
              "      <td>104.10</td>\n",
              "      <td>106.27</td>\n",
              "      <td>104.52</td>\n",
              "      <td>102.59</td>\n",
              "      <td>102.24</td>\n",
              "      <td>99.96</td>\n",
              "      <td>101.93</td>\n",
              "      <td>101.17</td>\n",
              "      <td>101.70</td>\n",
              "    </tr>\n",
              "    <tr>\n",
              "      <th>3</th>\n",
              "      <td>4</td>\n",
              "      <td>abr/04</td>\n",
              "      <td>106.77</td>\n",
              "      <td>95.36</td>\n",
              "      <td>118.34</td>\n",
              "      <td>100.49</td>\n",
              "      <td>94.58</td>\n",
              "      <td>123.55</td>\n",
              "      <td>101.02</td>\n",
              "      <td>91.79</td>\n",
              "      <td>...</td>\n",
              "      <td>103.09</td>\n",
              "      <td>103.91</td>\n",
              "      <td>104.10</td>\n",
              "      <td>106.27</td>\n",
              "      <td>104.52</td>\n",
              "      <td>102.59</td>\n",
              "      <td>102.24</td>\n",
              "      <td>99.96</td>\n",
              "      <td>101.93</td>\n",
              "      <td>101.17</td>\n",
              "    </tr>\n",
              "    <tr>\n",
              "      <th>4</th>\n",
              "      <td>5</td>\n",
              "      <td>mai/04</td>\n",
              "      <td>108.08</td>\n",
              "      <td>92.47</td>\n",
              "      <td>121.49</td>\n",
              "      <td>98.96</td>\n",
              "      <td>91.34</td>\n",
              "      <td>128.32</td>\n",
              "      <td>99.55</td>\n",
              "      <td>85.73</td>\n",
              "      <td>...</td>\n",
              "      <td>102.05</td>\n",
              "      <td>103.09</td>\n",
              "      <td>103.91</td>\n",
              "      <td>104.10</td>\n",
              "      <td>106.27</td>\n",
              "      <td>104.52</td>\n",
              "      <td>102.59</td>\n",
              "      <td>102.24</td>\n",
              "      <td>99.96</td>\n",
              "      <td>101.93</td>\n",
              "    </tr>\n",
              "  </tbody>\n",
              "</table>\n",
              "<p>5 rows × 38 columns</p>\n",
              "</div>\n",
              "      <button class=\"colab-df-convert\" onclick=\"convertToInteractive('df-18d3ab46-7e6c-4dc7-9cfc-3c88b01ab40f')\"\n",
              "              title=\"Convert this dataframe to an interactive table.\"\n",
              "              style=\"display:none;\">\n",
              "        \n",
              "  <svg xmlns=\"http://www.w3.org/2000/svg\" height=\"24px\"viewBox=\"0 0 24 24\"\n",
              "       width=\"24px\">\n",
              "    <path d=\"M0 0h24v24H0V0z\" fill=\"none\"/>\n",
              "    <path d=\"M18.56 5.44l.94 2.06.94-2.06 2.06-.94-2.06-.94-.94-2.06-.94 2.06-2.06.94zm-11 1L8.5 8.5l.94-2.06 2.06-.94-2.06-.94L8.5 2.5l-.94 2.06-2.06.94zm10 10l.94 2.06.94-2.06 2.06-.94-2.06-.94-.94-2.06-.94 2.06-2.06.94z\"/><path d=\"M17.41 7.96l-1.37-1.37c-.4-.4-.92-.59-1.43-.59-.52 0-1.04.2-1.43.59L10.3 9.45l-7.72 7.72c-.78.78-.78 2.05 0 2.83L4 21.41c.39.39.9.59 1.41.59.51 0 1.02-.2 1.41-.59l7.78-7.78 2.81-2.81c.8-.78.8-2.07 0-2.86zM5.41 20L4 18.59l7.72-7.72 1.47 1.35L5.41 20z\"/>\n",
              "  </svg>\n",
              "      </button>\n",
              "      \n",
              "  <style>\n",
              "    .colab-df-container {\n",
              "      display:flex;\n",
              "      flex-wrap:wrap;\n",
              "      gap: 12px;\n",
              "    }\n",
              "\n",
              "    .colab-df-convert {\n",
              "      background-color: #E8F0FE;\n",
              "      border: none;\n",
              "      border-radius: 50%;\n",
              "      cursor: pointer;\n",
              "      display: none;\n",
              "      fill: #1967D2;\n",
              "      height: 32px;\n",
              "      padding: 0 0 0 0;\n",
              "      width: 32px;\n",
              "    }\n",
              "\n",
              "    .colab-df-convert:hover {\n",
              "      background-color: #E2EBFA;\n",
              "      box-shadow: 0px 1px 2px rgba(60, 64, 67, 0.3), 0px 1px 3px 1px rgba(60, 64, 67, 0.15);\n",
              "      fill: #174EA6;\n",
              "    }\n",
              "\n",
              "    [theme=dark] .colab-df-convert {\n",
              "      background-color: #3B4455;\n",
              "      fill: #D2E3FC;\n",
              "    }\n",
              "\n",
              "    [theme=dark] .colab-df-convert:hover {\n",
              "      background-color: #434B5C;\n",
              "      box-shadow: 0px 1px 3px 1px rgba(0, 0, 0, 0.15);\n",
              "      filter: drop-shadow(0px 1px 2px rgba(0, 0, 0, 0.3));\n",
              "      fill: #FFFFFF;\n",
              "    }\n",
              "  </style>\n",
              "\n",
              "      <script>\n",
              "        const buttonEl =\n",
              "          document.querySelector('#df-18d3ab46-7e6c-4dc7-9cfc-3c88b01ab40f button.colab-df-convert');\n",
              "        buttonEl.style.display =\n",
              "          google.colab.kernel.accessAllowed ? 'block' : 'none';\n",
              "\n",
              "        async function convertToInteractive(key) {\n",
              "          const element = document.querySelector('#df-18d3ab46-7e6c-4dc7-9cfc-3c88b01ab40f');\n",
              "          const dataTable =\n",
              "            await google.colab.kernel.invokeFunction('convertToInteractive',\n",
              "                                                     [key], {});\n",
              "          if (!dataTable) return;\n",
              "\n",
              "          const docLinkHtml = 'Like what you see? Visit the ' +\n",
              "            '<a target=\"_blank\" href=https://colab.research.google.com/notebooks/data_table.ipynb>data table notebook</a>'\n",
              "            + ' to learn more about interactive tables.';\n",
              "          element.innerHTML = '';\n",
              "          dataTable['output_type'] = 'display_data';\n",
              "          await google.colab.output.renderOutput(dataTable, element);\n",
              "          const docLink = document.createElement('div');\n",
              "          docLink.innerHTML = docLinkHtml;\n",
              "          element.appendChild(docLink);\n",
              "        }\n",
              "      </script>\n",
              "    </div>\n",
              "  </div>\n",
              "  "
            ]
          },
          "metadata": {},
          "execution_count": 3
        },
        {
          "output_type": "stream",
          "name": "stdout",
          "text": [
            "Warning: Total number of columns (38) exceeds max_columns (20) limiting to first (20) columns.\n"
          ]
        }
      ]
    },
    {
      "cell_type": "markdown",
      "source": [
        "## 2. Sample train and test"
      ],
      "metadata": {
        "id": "dTDILx4e2So-"
      }
    },
    {
      "cell_type": "code",
      "source": [
        "train = df.iloc[0:124]\n",
        "test = df.iloc[125:137]"
      ],
      "metadata": {
        "id": "ikmNARaJ2G5V"
      },
      "execution_count": 5,
      "outputs": []
    },
    {
      "cell_type": "markdown",
      "source": [
        "## 3. Bulding model"
      ],
      "metadata": {
        "id": "FzANyqt_2v3P"
      }
    },
    {
      "cell_type": "code",
      "source": [
        "y_train = train.iloc[:,[2]]\n",
        "\n",
        "# x_train = train.loc[:,[\"BRL\"]]\n",
        "# x_train = train.loc[:,[\"BRL\", \"BRP\"]]\n",
        "# x_train = train.loc[:,[\"PIBi1\", \"PIBi2\"]]\n",
        "# x_train = train.loc[:,[\"PIBi1\", \"PIBi2\", \"PIBi4\", \"PIBi12\"]]\n",
        "x_train = train.loc[:,[\"BRL\", \"BRP\", \"D1\", \"D5\", \"D11\"]]\n",
        "\n",
        "mod = LinearRegression()\n",
        "\n",
        "mod.fit(x_train,y_train)"
      ],
      "metadata": {
        "colab": {
          "base_uri": "https://localhost:8080/"
        },
        "id": "S0ZxgHS-2jCF",
        "outputId": "c5ee47d8-f424-489e-8164-383f2f803976"
      },
      "execution_count": 27,
      "outputs": [
        {
          "output_type": "execute_result",
          "data": {
            "text/plain": [
              "LinearRegression()"
            ]
          },
          "metadata": {},
          "execution_count": 27
        }
      ]
    },
    {
      "cell_type": "markdown",
      "source": [
        "## 4. Testing"
      ],
      "metadata": {
        "id": "MavBcoX54P_a"
      }
    },
    {
      "cell_type": "code",
      "source": [
        "# x_test = test.loc[:,[\"BRL\"]]\n",
        "# x_test = test.loc[:,[\"BRL\", \"BRP\"]]\n",
        "# x_test = test.loc[:,[\"PIBi1\", \"PIBi2\"]]\n",
        "# x_test = test.loc[:,[\"PIBi1\", \"PIBi2\", \"PIBi4\", \"PIBi12\"]]\n",
        "x_test = test.loc[:,[\"BRL\", \"BRP\", \"D1\", \"D5\", \"D11\"]]\n",
        "y_prev = mod.predict(x_test)\n",
        "y_real = test.loc[:,['PIB']]\n",
        "\n",
        "error = y_real - y_prev\n",
        "\n",
        "erro_abd_medio = np.mean(abs(error))\n",
        "\n",
        "erro_abd_medio"
      ],
      "metadata": {
        "colab": {
          "base_uri": "https://localhost:8080/"
        },
        "id": "D29ZF05R2p_B",
        "outputId": "9fd7b7e3-9e67-4685-f6e3-e769f6241ba8"
      },
      "execution_count": 28,
      "outputs": [
        {
          "output_type": "execute_result",
          "data": {
            "text/plain": [
              "PIB    2.57407\n",
              "dtype: float64"
            ]
          },
          "metadata": {},
          "execution_count": 28
        }
      ]
    },
    {
      "cell_type": "code",
      "source": [],
      "metadata": {
        "id": "riY2thKI46qR"
      },
      "execution_count": null,
      "outputs": []
    }
  ]
}